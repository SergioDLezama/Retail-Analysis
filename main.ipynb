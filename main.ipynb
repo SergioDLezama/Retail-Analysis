{
  "cells": [
    {
      "cell_type": "code",
      "source": [
        "test"
      ],
      "metadata": {
        "id": "I5KNe-PGIIBq"
      },
      "execution_count": null,
      "outputs": []
    },
    {
      "cell_type": "code",
      "execution_count": null,
      "metadata": {
        "id": "B0p6GYnEHcAX"
      },
      "outputs": [],
      "source": [
        "# Importing necesary libraries\n",
        "import sklearn\n",
        "import numpy as np\n",
        "import pandas as pd\n",
        "import matplotlib.pyplot as plt\n",
        "import seaborn as sns\n",
        "\n",
        "pd.set_option('display.max_columns', None)"
      ]
    },
    {
      "cell_type": "code",
      "execution_count": null,
      "metadata": {
        "id": "DluvHejHHcAY"
      },
      "outputs": [],
      "source": [
        "data = pd.read_csv('retail_data.csv')"
      ]
    },
    {
      "cell_type": "code",
      "execution_count": null,
      "metadata": {
        "id": "Av60bTk4HcAY",
        "outputId": "d9df5578-e38e-46bc-c444-c717b57eb749"
      },
      "outputs": [
        {
          "data": {
            "text/plain": [
              "(302010, 30)"
            ]
          },
          "execution_count": 147,
          "metadata": {},
          "output_type": "execute_result"
        }
      ],
      "source": [
        "data.shape"
      ]
    },
    {
      "cell_type": "markdown",
      "metadata": {
        "id": "gnN4ht4oHcAZ"
      },
      "source": [
        "There is ~300,000 rows and 30 columns, some columns contain sensible data, this will be dropped. Time and Order Status too"
      ]
    },
    {
      "cell_type": "code",
      "execution_count": null,
      "metadata": {
        "id": "OalTxnVkHcAZ"
      },
      "outputs": [],
      "source": [
        "data = data.drop(['Name','Email','Phone','Address','Time','Order_Status'],axis=1)"
      ]
    },
    {
      "cell_type": "code",
      "execution_count": null,
      "metadata": {
        "id": "NpxjtZl8HcAZ",
        "outputId": "4ef7391b-280a-47a8-864e-b933a05cf971"
      },
      "outputs": [
        {
          "data": {
            "text/html": [
              "<div>\n",
              "<style scoped>\n",
              "    .dataframe tbody tr th:only-of-type {\n",
              "        vertical-align: middle;\n",
              "    }\n",
              "\n",
              "    .dataframe tbody tr th {\n",
              "        vertical-align: top;\n",
              "    }\n",
              "\n",
              "    .dataframe thead th {\n",
              "        text-align: right;\n",
              "    }\n",
              "</style>\n",
              "<table border=\"1\" class=\"dataframe\">\n",
              "  <thead>\n",
              "    <tr style=\"text-align: right;\">\n",
              "      <th></th>\n",
              "      <th>Transaction_ID</th>\n",
              "      <th>Customer_ID</th>\n",
              "      <th>City</th>\n",
              "      <th>State</th>\n",
              "      <th>Zipcode</th>\n",
              "      <th>Country</th>\n",
              "      <th>Age</th>\n",
              "      <th>Gender</th>\n",
              "      <th>Income</th>\n",
              "      <th>Customer_Segment</th>\n",
              "      <th>Date</th>\n",
              "      <th>Year</th>\n",
              "      <th>Month</th>\n",
              "      <th>Total_Purchases</th>\n",
              "      <th>Amount</th>\n",
              "      <th>Total_Amount</th>\n",
              "      <th>Product_Category</th>\n",
              "      <th>Product_Brand</th>\n",
              "      <th>Product_Type</th>\n",
              "      <th>Feedback</th>\n",
              "      <th>Shipping_Method</th>\n",
              "      <th>Payment_Method</th>\n",
              "      <th>Ratings</th>\n",
              "      <th>products</th>\n",
              "    </tr>\n",
              "  </thead>\n",
              "  <tbody>\n",
              "    <tr>\n",
              "      <th>0</th>\n",
              "      <td>8691788.000</td>\n",
              "      <td>37249.000</td>\n",
              "      <td>Dortmund</td>\n",
              "      <td>Berlin</td>\n",
              "      <td>77985.000</td>\n",
              "      <td>Germany</td>\n",
              "      <td>21.000</td>\n",
              "      <td>Male</td>\n",
              "      <td>Low</td>\n",
              "      <td>Regular</td>\n",
              "      <td>9/18/2023</td>\n",
              "      <td>2023.000</td>\n",
              "      <td>September</td>\n",
              "      <td>3.000</td>\n",
              "      <td>108.029</td>\n",
              "      <td>324.086</td>\n",
              "      <td>Clothing</td>\n",
              "      <td>Nike</td>\n",
              "      <td>Shorts</td>\n",
              "      <td>Excellent</td>\n",
              "      <td>Same-Day</td>\n",
              "      <td>Debit Card</td>\n",
              "      <td>5.000</td>\n",
              "      <td>Cycling shorts</td>\n",
              "    </tr>\n",
              "    <tr>\n",
              "      <th>1</th>\n",
              "      <td>2174773.000</td>\n",
              "      <td>69749.000</td>\n",
              "      <td>Nottingham</td>\n",
              "      <td>England</td>\n",
              "      <td>99071.000</td>\n",
              "      <td>UK</td>\n",
              "      <td>19.000</td>\n",
              "      <td>Female</td>\n",
              "      <td>Low</td>\n",
              "      <td>Premium</td>\n",
              "      <td>12/31/2023</td>\n",
              "      <td>2023.000</td>\n",
              "      <td>December</td>\n",
              "      <td>2.000</td>\n",
              "      <td>403.354</td>\n",
              "      <td>806.708</td>\n",
              "      <td>Electronics</td>\n",
              "      <td>Samsung</td>\n",
              "      <td>Tablet</td>\n",
              "      <td>Excellent</td>\n",
              "      <td>Standard</td>\n",
              "      <td>Credit Card</td>\n",
              "      <td>4.000</td>\n",
              "      <td>Lenovo Tab</td>\n",
              "    </tr>\n",
              "    <tr>\n",
              "      <th>2</th>\n",
              "      <td>6679610.000</td>\n",
              "      <td>30192.000</td>\n",
              "      <td>Geelong</td>\n",
              "      <td>New South Wales</td>\n",
              "      <td>75929.000</td>\n",
              "      <td>Australia</td>\n",
              "      <td>48.000</td>\n",
              "      <td>Male</td>\n",
              "      <td>Low</td>\n",
              "      <td>Regular</td>\n",
              "      <td>4/26/2023</td>\n",
              "      <td>2023.000</td>\n",
              "      <td>April</td>\n",
              "      <td>3.000</td>\n",
              "      <td>354.478</td>\n",
              "      <td>1063.433</td>\n",
              "      <td>Books</td>\n",
              "      <td>Penguin Books</td>\n",
              "      <td>Children's</td>\n",
              "      <td>Average</td>\n",
              "      <td>Same-Day</td>\n",
              "      <td>Credit Card</td>\n",
              "      <td>2.000</td>\n",
              "      <td>Sports equipment</td>\n",
              "    </tr>\n",
              "    <tr>\n",
              "      <th>3</th>\n",
              "      <td>7232460.000</td>\n",
              "      <td>62101.000</td>\n",
              "      <td>Edmonton</td>\n",
              "      <td>Ontario</td>\n",
              "      <td>88420.000</td>\n",
              "      <td>Canada</td>\n",
              "      <td>56.000</td>\n",
              "      <td>Male</td>\n",
              "      <td>High</td>\n",
              "      <td>Premium</td>\n",
              "      <td>05-08-23</td>\n",
              "      <td>2023.000</td>\n",
              "      <td>May</td>\n",
              "      <td>7.000</td>\n",
              "      <td>352.408</td>\n",
              "      <td>2466.854</td>\n",
              "      <td>Home Decor</td>\n",
              "      <td>Home Depot</td>\n",
              "      <td>Tools</td>\n",
              "      <td>Excellent</td>\n",
              "      <td>Standard</td>\n",
              "      <td>PayPal</td>\n",
              "      <td>4.000</td>\n",
              "      <td>Utility knife</td>\n",
              "    </tr>\n",
              "    <tr>\n",
              "      <th>4</th>\n",
              "      <td>4983775.000</td>\n",
              "      <td>27901.000</td>\n",
              "      <td>Bristol</td>\n",
              "      <td>England</td>\n",
              "      <td>48704.000</td>\n",
              "      <td>UK</td>\n",
              "      <td>22.000</td>\n",
              "      <td>Male</td>\n",
              "      <td>Low</td>\n",
              "      <td>Premium</td>\n",
              "      <td>01-10-24</td>\n",
              "      <td>2024.000</td>\n",
              "      <td>January</td>\n",
              "      <td>2.000</td>\n",
              "      <td>124.277</td>\n",
              "      <td>248.553</td>\n",
              "      <td>Grocery</td>\n",
              "      <td>Nestle</td>\n",
              "      <td>Chocolate</td>\n",
              "      <td>Bad</td>\n",
              "      <td>Standard</td>\n",
              "      <td>Cash</td>\n",
              "      <td>1.000</td>\n",
              "      <td>Chocolate cookies</td>\n",
              "    </tr>\n",
              "  </tbody>\n",
              "</table>\n",
              "</div>"
            ],
            "text/plain": [
              "   Transaction_ID  Customer_ID        City            State   Zipcode  \\\n",
              "0     8691788.000    37249.000    Dortmund           Berlin 77985.000   \n",
              "1     2174773.000    69749.000  Nottingham          England 99071.000   \n",
              "2     6679610.000    30192.000     Geelong  New South Wales 75929.000   \n",
              "3     7232460.000    62101.000    Edmonton          Ontario 88420.000   \n",
              "4     4983775.000    27901.000     Bristol          England 48704.000   \n",
              "\n",
              "     Country    Age  Gender Income Customer_Segment        Date     Year  \\\n",
              "0    Germany 21.000    Male    Low          Regular   9/18/2023 2023.000   \n",
              "1         UK 19.000  Female    Low          Premium  12/31/2023 2023.000   \n",
              "2  Australia 48.000    Male    Low          Regular   4/26/2023 2023.000   \n",
              "3     Canada 56.000    Male   High          Premium    05-08-23 2023.000   \n",
              "4         UK 22.000    Male    Low          Premium    01-10-24 2024.000   \n",
              "\n",
              "       Month  Total_Purchases  Amount  Total_Amount Product_Category  \\\n",
              "0  September            3.000 108.029       324.086         Clothing   \n",
              "1   December            2.000 403.354       806.708      Electronics   \n",
              "2      April            3.000 354.478      1063.433            Books   \n",
              "3        May            7.000 352.408      2466.854       Home Decor   \n",
              "4    January            2.000 124.277       248.553          Grocery   \n",
              "\n",
              "   Product_Brand Product_Type   Feedback Shipping_Method Payment_Method  \\\n",
              "0           Nike       Shorts  Excellent        Same-Day     Debit Card   \n",
              "1        Samsung       Tablet  Excellent        Standard    Credit Card   \n",
              "2  Penguin Books   Children's    Average        Same-Day    Credit Card   \n",
              "3     Home Depot        Tools  Excellent        Standard         PayPal   \n",
              "4         Nestle    Chocolate        Bad        Standard           Cash   \n",
              "\n",
              "   Ratings           products  \n",
              "0    5.000     Cycling shorts  \n",
              "1    4.000         Lenovo Tab  \n",
              "2    2.000   Sports equipment  \n",
              "3    4.000      Utility knife  \n",
              "4    1.000  Chocolate cookies  "
            ]
          },
          "execution_count": 149,
          "metadata": {},
          "output_type": "execute_result"
        }
      ],
      "source": [
        "data.head()"
      ]
    },
    {
      "cell_type": "code",
      "execution_count": null,
      "metadata": {
        "id": "1PShvMg6HcAa",
        "outputId": "6a2fe125-c722-44f2-8651-390b61f86eb3"
      },
      "outputs": [
        {
          "data": {
            "text/plain": [
              "Index(['Transaction_ID', 'Customer_ID', 'City', 'State', 'Zipcode', 'Country',\n",
              "       'Age', 'Gender', 'Income', 'Customer_Segment', 'Date', 'Year', 'Month',\n",
              "       'Total_Purchases', 'Amount', 'Total_Amount', 'Product_Category',\n",
              "       'Product_Brand', 'Product_Type', 'Feedback', 'Shipping_Method',\n",
              "       'Payment_Method', 'Ratings', 'products'],\n",
              "      dtype='object')"
            ]
          },
          "execution_count": 150,
          "metadata": {},
          "output_type": "execute_result"
        }
      ],
      "source": [
        "data.columns"
      ]
    },
    {
      "cell_type": "markdown",
      "metadata": {
        "id": "EeMbtjuBHcAa"
      },
      "source": [
        "Now with the sensible data out i will start with some EDA"
      ]
    },
    {
      "cell_type": "code",
      "execution_count": null,
      "metadata": {
        "id": "wMnfx0snHcAa",
        "outputId": "98dd708a-4bc1-4697-bf3e-0050a4a3bb43"
      },
      "outputs": [
        {
          "name": "stdout",
          "output_type": "stream",
          "text": [
            "<class 'pandas.core.frame.DataFrame'>\n",
            "RangeIndex: 302010 entries, 0 to 302009\n",
            "Data columns (total 24 columns):\n",
            " #   Column            Non-Null Count   Dtype  \n",
            "---  ------            --------------   -----  \n",
            " 0   Transaction_ID    301677 non-null  float64\n",
            " 1   Customer_ID       301702 non-null  float64\n",
            " 2   City              301762 non-null  object \n",
            " 3   State             301729 non-null  object \n",
            " 4   Zipcode           301670 non-null  float64\n",
            " 5   Country           301739 non-null  object \n",
            " 6   Age               301837 non-null  float64\n",
            " 7   Gender            301693 non-null  object \n",
            " 8   Income            301720 non-null  object \n",
            " 9   Customer_Segment  301795 non-null  object \n",
            " 10  Date              301651 non-null  object \n",
            " 11  Year              301660 non-null  float64\n",
            " 12  Month             301737 non-null  object \n",
            " 13  Total_Purchases   301649 non-null  float64\n",
            " 14  Amount            301653 non-null  float64\n",
            " 15  Total_Amount      301660 non-null  float64\n",
            " 16  Product_Category  301727 non-null  object \n",
            " 17  Product_Brand     301729 non-null  object \n",
            " 18  Product_Type      302010 non-null  object \n",
            " 19  Feedback          301826 non-null  object \n",
            " 20  Shipping_Method   301673 non-null  object \n",
            " 21  Payment_Method    301713 non-null  object \n",
            " 22  Ratings           301826 non-null  float64\n",
            " 23  products          302010 non-null  object \n",
            "dtypes: float64(9), object(15)\n",
            "memory usage: 55.3+ MB\n"
          ]
        }
      ],
      "source": [
        "data.info()"
      ]
    },
    {
      "cell_type": "markdown",
      "metadata": {
        "id": "_8wl6e5uHcAa"
      },
      "source": [
        "The data has\n",
        "- 9 Numeric columns\n",
        "- 15 Object columns\n",
        "- There is some Null Values. I will check the % of missing data to see if it will be dropped or replaced with mean/mode"
      ]
    },
    {
      "cell_type": "code",
      "execution_count": null,
      "metadata": {
        "id": "09c5uef8HcAa",
        "outputId": "ebae7014-3cd3-4693-f7ba-0e0a48f33075"
      },
      "outputs": [
        {
          "data": {
            "text/plain": [
              "np.int64(6149)"
            ]
          },
          "execution_count": 152,
          "metadata": {},
          "output_type": "execute_result"
        }
      ],
      "source": [
        "data.isnull().any(axis=1).sum()"
      ]
    },
    {
      "cell_type": "markdown",
      "metadata": {
        "id": "5KY1p7hoHcAa"
      },
      "source": [
        "There is 6723 rows with NullValues it is a very small percentage of the data, it will be dropped"
      ]
    },
    {
      "cell_type": "code",
      "execution_count": null,
      "metadata": {
        "id": "Hs8c2-gBHcAa"
      },
      "outputs": [],
      "source": [
        "data = data.dropna()"
      ]
    },
    {
      "cell_type": "code",
      "execution_count": null,
      "metadata": {
        "id": "SXJUwdONHcAb",
        "outputId": "c137e48d-a26b-409a-ba81-93c30e548259"
      },
      "outputs": [
        {
          "data": {
            "text/plain": [
              "(295861, 24)"
            ]
          },
          "execution_count": 154,
          "metadata": {},
          "output_type": "execute_result"
        }
      ],
      "source": [
        "data.shape"
      ]
    },
    {
      "cell_type": "code",
      "execution_count": null,
      "metadata": {
        "id": "7aSaBBTkHcAb",
        "outputId": "0a9b177c-149e-4e99-befc-11782d5b62f2"
      },
      "outputs": [
        {
          "data": {
            "text/plain": [
              "np.int64(3)"
            ]
          },
          "execution_count": 155,
          "metadata": {},
          "output_type": "execute_result"
        }
      ],
      "source": [
        "data.duplicated().sum()"
      ]
    },
    {
      "cell_type": "code",
      "execution_count": null,
      "metadata": {
        "id": "kQ8wBEtfHcAb",
        "outputId": "26134fc9-d885-4320-eadb-4761f0a33096"
      },
      "outputs": [
        {
          "data": {
            "text/html": [
              "<div>\n",
              "<style scoped>\n",
              "    .dataframe tbody tr th:only-of-type {\n",
              "        vertical-align: middle;\n",
              "    }\n",
              "\n",
              "    .dataframe tbody tr th {\n",
              "        vertical-align: top;\n",
              "    }\n",
              "\n",
              "    .dataframe thead th {\n",
              "        text-align: right;\n",
              "    }\n",
              "</style>\n",
              "<table border=\"1\" class=\"dataframe\">\n",
              "  <thead>\n",
              "    <tr style=\"text-align: right;\">\n",
              "      <th></th>\n",
              "      <th>Transaction_ID</th>\n",
              "      <th>Customer_ID</th>\n",
              "      <th>City</th>\n",
              "      <th>State</th>\n",
              "      <th>Zipcode</th>\n",
              "      <th>Country</th>\n",
              "      <th>Age</th>\n",
              "      <th>Gender</th>\n",
              "      <th>Income</th>\n",
              "      <th>Customer_Segment</th>\n",
              "      <th>Date</th>\n",
              "      <th>Year</th>\n",
              "      <th>Month</th>\n",
              "      <th>Total_Purchases</th>\n",
              "      <th>Amount</th>\n",
              "      <th>Total_Amount</th>\n",
              "      <th>Product_Category</th>\n",
              "      <th>Product_Brand</th>\n",
              "      <th>Product_Type</th>\n",
              "      <th>Feedback</th>\n",
              "      <th>Shipping_Method</th>\n",
              "      <th>Payment_Method</th>\n",
              "      <th>Ratings</th>\n",
              "      <th>products</th>\n",
              "    </tr>\n",
              "  </thead>\n",
              "  <tbody>\n",
              "    <tr>\n",
              "      <th>299759</th>\n",
              "      <td>4476510.000</td>\n",
              "      <td>20103.000</td>\n",
              "      <td>Kitchener</td>\n",
              "      <td>Ontario</td>\n",
              "      <td>7099.000</td>\n",
              "      <td>Canada</td>\n",
              "      <td>54.000</td>\n",
              "      <td>Female</td>\n",
              "      <td>Low</td>\n",
              "      <td>Regular</td>\n",
              "      <td>12-10-23</td>\n",
              "      <td>2023.000</td>\n",
              "      <td>December</td>\n",
              "      <td>7.000</td>\n",
              "      <td>134.374</td>\n",
              "      <td>940.619</td>\n",
              "      <td>Clothing</td>\n",
              "      <td>Adidas</td>\n",
              "      <td>T-shirt</td>\n",
              "      <td>Bad</td>\n",
              "      <td>Express</td>\n",
              "      <td>Credit Card</td>\n",
              "      <td>1.000</td>\n",
              "      <td>Off-the-shoulder tee</td>\n",
              "    </tr>\n",
              "    <tr>\n",
              "      <th>301362</th>\n",
              "      <td>4942326.000</td>\n",
              "      <td>25416.000</td>\n",
              "      <td>Leicester</td>\n",
              "      <td>England</td>\n",
              "      <td>57655.000</td>\n",
              "      <td>UK</td>\n",
              "      <td>63.000</td>\n",
              "      <td>Male</td>\n",
              "      <td>Low</td>\n",
              "      <td>Regular</td>\n",
              "      <td>05-05-23</td>\n",
              "      <td>2023.000</td>\n",
              "      <td>May</td>\n",
              "      <td>8.000</td>\n",
              "      <td>191.907</td>\n",
              "      <td>1535.255</td>\n",
              "      <td>Clothing</td>\n",
              "      <td>Adidas</td>\n",
              "      <td>Jacket</td>\n",
              "      <td>Average</td>\n",
              "      <td>Same-Day</td>\n",
              "      <td>Cash</td>\n",
              "      <td>2.000</td>\n",
              "      <td>Varsity jacket</td>\n",
              "    </tr>\n",
              "    <tr>\n",
              "      <th>301486</th>\n",
              "      <td>3200766.000</td>\n",
              "      <td>49598.000</td>\n",
              "      <td>Bremen</td>\n",
              "      <td>Berlin</td>\n",
              "      <td>64747.000</td>\n",
              "      <td>Germany</td>\n",
              "      <td>59.000</td>\n",
              "      <td>Male</td>\n",
              "      <td>Low</td>\n",
              "      <td>New</td>\n",
              "      <td>11/23/2023</td>\n",
              "      <td>2023.000</td>\n",
              "      <td>November</td>\n",
              "      <td>9.000</td>\n",
              "      <td>272.327</td>\n",
              "      <td>2450.947</td>\n",
              "      <td>Grocery</td>\n",
              "      <td>Pepsi</td>\n",
              "      <td>Soft Drink</td>\n",
              "      <td>Bad</td>\n",
              "      <td>Standard</td>\n",
              "      <td>Cash</td>\n",
              "      <td>1.000</td>\n",
              "      <td>Iced tea</td>\n",
              "    </tr>\n",
              "  </tbody>\n",
              "</table>\n",
              "</div>"
            ],
            "text/plain": [
              "        Transaction_ID  Customer_ID       City    State   Zipcode  Country  \\\n",
              "299759     4476510.000    20103.000  Kitchener  Ontario  7099.000   Canada   \n",
              "301362     4942326.000    25416.000  Leicester  England 57655.000       UK   \n",
              "301486     3200766.000    49598.000     Bremen   Berlin 64747.000  Germany   \n",
              "\n",
              "          Age  Gender Income Customer_Segment        Date     Year     Month  \\\n",
              "299759 54.000  Female    Low          Regular    12-10-23 2023.000  December   \n",
              "301362 63.000    Male    Low          Regular    05-05-23 2023.000       May   \n",
              "301486 59.000    Male    Low              New  11/23/2023 2023.000  November   \n",
              "\n",
              "        Total_Purchases  Amount  Total_Amount Product_Category Product_Brand  \\\n",
              "299759            7.000 134.374       940.619         Clothing        Adidas   \n",
              "301362            8.000 191.907      1535.255         Clothing        Adidas   \n",
              "301486            9.000 272.327      2450.947          Grocery         Pepsi   \n",
              "\n",
              "       Product_Type Feedback Shipping_Method Payment_Method  Ratings  \\\n",
              "299759      T-shirt      Bad         Express    Credit Card    1.000   \n",
              "301362       Jacket  Average        Same-Day           Cash    2.000   \n",
              "301486   Soft Drink      Bad        Standard           Cash    1.000   \n",
              "\n",
              "                    products  \n",
              "299759  Off-the-shoulder tee  \n",
              "301362        Varsity jacket  \n",
              "301486              Iced tea  "
            ]
          },
          "execution_count": 156,
          "metadata": {},
          "output_type": "execute_result"
        }
      ],
      "source": [
        "dup_rows = data.duplicated()\n",
        "data[dup_rows]"
      ]
    },
    {
      "cell_type": "markdown",
      "metadata": {
        "id": "5CqRZrB4HcAb"
      },
      "source": [
        "The rows are not duplicated. I will consider all data as unique"
      ]
    },
    {
      "cell_type": "code",
      "execution_count": null,
      "metadata": {
        "id": "IAgTf1heHcAb",
        "outputId": "232c99fd-25cb-4e64-cbde-6536b870583b"
      },
      "outputs": [
        {
          "data": {
            "text/plain": [
              "86568"
            ]
          },
          "execution_count": 157,
          "metadata": {},
          "output_type": "execute_result"
        }
      ],
      "source": [
        "data['Customer_ID'].nunique()"
      ]
    },
    {
      "cell_type": "markdown",
      "metadata": {
        "id": "AJbtar69HcAb"
      },
      "source": [
        "There is 86,561 unique costumers"
      ]
    },
    {
      "cell_type": "code",
      "execution_count": null,
      "metadata": {
        "id": "ZZwzIzAWHcAb",
        "outputId": "9d7cab03-3759-4f68-e5b7-ec9751165ac7"
      },
      "outputs": [
        {
          "data": {
            "text/html": [
              "<div>\n",
              "<style scoped>\n",
              "    .dataframe tbody tr th:only-of-type {\n",
              "        vertical-align: middle;\n",
              "    }\n",
              "\n",
              "    .dataframe tbody tr th {\n",
              "        vertical-align: top;\n",
              "    }\n",
              "\n",
              "    .dataframe thead th {\n",
              "        text-align: right;\n",
              "    }\n",
              "</style>\n",
              "<table border=\"1\" class=\"dataframe\">\n",
              "  <thead>\n",
              "    <tr style=\"text-align: right;\">\n",
              "      <th></th>\n",
              "      <th>Transaction_ID</th>\n",
              "      <th>Customer_ID</th>\n",
              "      <th>Zipcode</th>\n",
              "      <th>Age</th>\n",
              "      <th>Year</th>\n",
              "      <th>Total_Purchases</th>\n",
              "      <th>Amount</th>\n",
              "      <th>Total_Amount</th>\n",
              "      <th>Ratings</th>\n",
              "    </tr>\n",
              "  </thead>\n",
              "  <tbody>\n",
              "    <tr>\n",
              "      <th>count</th>\n",
              "      <td>295861.000</td>\n",
              "      <td>295861.000</td>\n",
              "      <td>295861.000</td>\n",
              "      <td>295861.000</td>\n",
              "      <td>295861.000</td>\n",
              "      <td>295861.000</td>\n",
              "      <td>295861.000</td>\n",
              "      <td>295861.000</td>\n",
              "      <td>295861.000</td>\n",
              "    </tr>\n",
              "    <tr>\n",
              "      <th>mean</th>\n",
              "      <td>5493719.614</td>\n",
              "      <td>55017.864</td>\n",
              "      <td>50288.587</td>\n",
              "      <td>35.468</td>\n",
              "      <td>2023.165</td>\n",
              "      <td>5.360</td>\n",
              "      <td>255.150</td>\n",
              "      <td>1367.601</td>\n",
              "      <td>3.162</td>\n",
              "    </tr>\n",
              "    <tr>\n",
              "      <th>std</th>\n",
              "      <td>2595856.330</td>\n",
              "      <td>26009.604</td>\n",
              "      <td>28978.227</td>\n",
              "      <td>15.020</td>\n",
              "      <td>0.371</td>\n",
              "      <td>2.869</td>\n",
              "      <td>141.391</td>\n",
              "      <td>1128.844</td>\n",
              "      <td>1.321</td>\n",
              "    </tr>\n",
              "    <tr>\n",
              "      <th>min</th>\n",
              "      <td>1000007.000</td>\n",
              "      <td>10000.000</td>\n",
              "      <td>501.000</td>\n",
              "      <td>18.000</td>\n",
              "      <td>2023.000</td>\n",
              "      <td>1.000</td>\n",
              "      <td>10.000</td>\n",
              "      <td>10.004</td>\n",
              "      <td>1.000</td>\n",
              "    </tr>\n",
              "    <tr>\n",
              "      <th>25%</th>\n",
              "      <td>3245942.000</td>\n",
              "      <td>32473.000</td>\n",
              "      <td>25409.000</td>\n",
              "      <td>22.000</td>\n",
              "      <td>2023.000</td>\n",
              "      <td>3.000</td>\n",
              "      <td>132.850</td>\n",
              "      <td>438.821</td>\n",
              "      <td>2.000</td>\n",
              "    </tr>\n",
              "    <tr>\n",
              "      <th>50%</th>\n",
              "      <td>5496085.000</td>\n",
              "      <td>55027.000</td>\n",
              "      <td>50586.000</td>\n",
              "      <td>32.000</td>\n",
              "      <td>2023.000</td>\n",
              "      <td>5.000</td>\n",
              "      <td>255.461</td>\n",
              "      <td>1041.163</td>\n",
              "      <td>3.000</td>\n",
              "    </tr>\n",
              "    <tr>\n",
              "      <th>75%</th>\n",
              "      <td>7737882.000</td>\n",
              "      <td>77525.000</td>\n",
              "      <td>75256.000</td>\n",
              "      <td>46.000</td>\n",
              "      <td>2023.000</td>\n",
              "      <td>8.000</td>\n",
              "      <td>377.617</td>\n",
              "      <td>2029.404</td>\n",
              "      <td>4.000</td>\n",
              "    </tr>\n",
              "    <tr>\n",
              "      <th>max</th>\n",
              "      <td>9999995.000</td>\n",
              "      <td>99999.000</td>\n",
              "      <td>99949.000</td>\n",
              "      <td>70.000</td>\n",
              "      <td>2024.000</td>\n",
              "      <td>10.000</td>\n",
              "      <td>499.998</td>\n",
              "      <td>4999.626</td>\n",
              "      <td>5.000</td>\n",
              "    </tr>\n",
              "  </tbody>\n",
              "</table>\n",
              "</div>"
            ],
            "text/plain": [
              "       Transaction_ID  Customer_ID    Zipcode        Age       Year  \\\n",
              "count      295861.000   295861.000 295861.000 295861.000 295861.000   \n",
              "mean      5493719.614    55017.864  50288.587     35.468   2023.165   \n",
              "std       2595856.330    26009.604  28978.227     15.020      0.371   \n",
              "min       1000007.000    10000.000    501.000     18.000   2023.000   \n",
              "25%       3245942.000    32473.000  25409.000     22.000   2023.000   \n",
              "50%       5496085.000    55027.000  50586.000     32.000   2023.000   \n",
              "75%       7737882.000    77525.000  75256.000     46.000   2023.000   \n",
              "max       9999995.000    99999.000  99949.000     70.000   2024.000   \n",
              "\n",
              "       Total_Purchases     Amount  Total_Amount    Ratings  \n",
              "count       295861.000 295861.000    295861.000 295861.000  \n",
              "mean             5.360    255.150      1367.601      3.162  \n",
              "std              2.869    141.391      1128.844      1.321  \n",
              "min              1.000     10.000        10.004      1.000  \n",
              "25%              3.000    132.850       438.821      2.000  \n",
              "50%              5.000    255.461      1041.163      3.000  \n",
              "75%              8.000    377.617      2029.404      4.000  \n",
              "max             10.000    499.998      4999.626      5.000  "
            ]
          },
          "execution_count": 158,
          "metadata": {},
          "output_type": "execute_result"
        }
      ],
      "source": [
        "pd.options.display.float_format = '{:.3f}'.format\n",
        "data.describe()"
      ]
    },
    {
      "cell_type": "markdown",
      "metadata": {
        "id": "WIcSFcAOHcAc"
      },
      "source": [
        "- Costumers age goes from 18 to 70\n",
        "- This dataset has transactions of 2023 and 2024\n",
        "- The mean total purchases is 5, most customers buy more than 3 times.\n",
        "- The minimum quantity of products purchased in a transaction is 10, I can infer that it is a wholesale store, and the maximum quantity of products purchased is 500"
      ]
    },
    {
      "cell_type": "markdown",
      "metadata": {
        "id": "X8ecNZGhHcAc"
      },
      "source": [
        "I will create a new column, Age range, in intervals of 5, it is easier to see this way and find patterns"
      ]
    },
    {
      "cell_type": "code",
      "execution_count": null,
      "metadata": {
        "id": "vJRtH1KiHcAc",
        "outputId": "0acd9de9-7b31-47e9-9fff-0c2351bfccea"
      },
      "outputs": [
        {
          "data": {
            "text/html": [
              "<div>\n",
              "<style scoped>\n",
              "    .dataframe tbody tr th:only-of-type {\n",
              "        vertical-align: middle;\n",
              "    }\n",
              "\n",
              "    .dataframe tbody tr th {\n",
              "        vertical-align: top;\n",
              "    }\n",
              "\n",
              "    .dataframe thead th {\n",
              "        text-align: right;\n",
              "    }\n",
              "</style>\n",
              "<table border=\"1\" class=\"dataframe\">\n",
              "  <thead>\n",
              "    <tr style=\"text-align: right;\">\n",
              "      <th></th>\n",
              "      <th>Transaction_ID</th>\n",
              "      <th>Customer_ID</th>\n",
              "      <th>City</th>\n",
              "      <th>State</th>\n",
              "      <th>Zipcode</th>\n",
              "      <th>Country</th>\n",
              "      <th>Age</th>\n",
              "      <th>Gender</th>\n",
              "      <th>Income</th>\n",
              "      <th>Customer_Segment</th>\n",
              "      <th>Date</th>\n",
              "      <th>Year</th>\n",
              "      <th>Month</th>\n",
              "      <th>Total_Purchases</th>\n",
              "      <th>Amount</th>\n",
              "      <th>Total_Amount</th>\n",
              "      <th>Product_Category</th>\n",
              "      <th>Product_Brand</th>\n",
              "      <th>Product_Type</th>\n",
              "      <th>Feedback</th>\n",
              "      <th>Shipping_Method</th>\n",
              "      <th>Payment_Method</th>\n",
              "      <th>Ratings</th>\n",
              "      <th>products</th>\n",
              "      <th>Age_range</th>\n",
              "    </tr>\n",
              "  </thead>\n",
              "  <tbody>\n",
              "    <tr>\n",
              "      <th>0</th>\n",
              "      <td>8691788.000</td>\n",
              "      <td>37249.000</td>\n",
              "      <td>Dortmund</td>\n",
              "      <td>Berlin</td>\n",
              "      <td>77985.000</td>\n",
              "      <td>Germany</td>\n",
              "      <td>21.000</td>\n",
              "      <td>Male</td>\n",
              "      <td>Low</td>\n",
              "      <td>Regular</td>\n",
              "      <td>9/18/2023</td>\n",
              "      <td>2023.000</td>\n",
              "      <td>September</td>\n",
              "      <td>3.000</td>\n",
              "      <td>108.029</td>\n",
              "      <td>324.086</td>\n",
              "      <td>Clothing</td>\n",
              "      <td>Nike</td>\n",
              "      <td>Shorts</td>\n",
              "      <td>Excellent</td>\n",
              "      <td>Same-Day</td>\n",
              "      <td>Debit Card</td>\n",
              "      <td>5.000</td>\n",
              "      <td>Cycling shorts</td>\n",
              "      <td>20-24</td>\n",
              "    </tr>\n",
              "    <tr>\n",
              "      <th>1</th>\n",
              "      <td>2174773.000</td>\n",
              "      <td>69749.000</td>\n",
              "      <td>Nottingham</td>\n",
              "      <td>England</td>\n",
              "      <td>99071.000</td>\n",
              "      <td>UK</td>\n",
              "      <td>19.000</td>\n",
              "      <td>Female</td>\n",
              "      <td>Low</td>\n",
              "      <td>Premium</td>\n",
              "      <td>12/31/2023</td>\n",
              "      <td>2023.000</td>\n",
              "      <td>December</td>\n",
              "      <td>2.000</td>\n",
              "      <td>403.354</td>\n",
              "      <td>806.708</td>\n",
              "      <td>Electronics</td>\n",
              "      <td>Samsung</td>\n",
              "      <td>Tablet</td>\n",
              "      <td>Excellent</td>\n",
              "      <td>Standard</td>\n",
              "      <td>Credit Card</td>\n",
              "      <td>4.000</td>\n",
              "      <td>Lenovo Tab</td>\n",
              "      <td>15-19</td>\n",
              "    </tr>\n",
              "    <tr>\n",
              "      <th>2</th>\n",
              "      <td>6679610.000</td>\n",
              "      <td>30192.000</td>\n",
              "      <td>Geelong</td>\n",
              "      <td>New South Wales</td>\n",
              "      <td>75929.000</td>\n",
              "      <td>Australia</td>\n",
              "      <td>48.000</td>\n",
              "      <td>Male</td>\n",
              "      <td>Low</td>\n",
              "      <td>Regular</td>\n",
              "      <td>4/26/2023</td>\n",
              "      <td>2023.000</td>\n",
              "      <td>April</td>\n",
              "      <td>3.000</td>\n",
              "      <td>354.478</td>\n",
              "      <td>1063.433</td>\n",
              "      <td>Books</td>\n",
              "      <td>Penguin Books</td>\n",
              "      <td>Children's</td>\n",
              "      <td>Average</td>\n",
              "      <td>Same-Day</td>\n",
              "      <td>Credit Card</td>\n",
              "      <td>2.000</td>\n",
              "      <td>Sports equipment</td>\n",
              "      <td>45-49</td>\n",
              "    </tr>\n",
              "    <tr>\n",
              "      <th>3</th>\n",
              "      <td>7232460.000</td>\n",
              "      <td>62101.000</td>\n",
              "      <td>Edmonton</td>\n",
              "      <td>Ontario</td>\n",
              "      <td>88420.000</td>\n",
              "      <td>Canada</td>\n",
              "      <td>56.000</td>\n",
              "      <td>Male</td>\n",
              "      <td>High</td>\n",
              "      <td>Premium</td>\n",
              "      <td>05-08-23</td>\n",
              "      <td>2023.000</td>\n",
              "      <td>May</td>\n",
              "      <td>7.000</td>\n",
              "      <td>352.408</td>\n",
              "      <td>2466.854</td>\n",
              "      <td>Home Decor</td>\n",
              "      <td>Home Depot</td>\n",
              "      <td>Tools</td>\n",
              "      <td>Excellent</td>\n",
              "      <td>Standard</td>\n",
              "      <td>PayPal</td>\n",
              "      <td>4.000</td>\n",
              "      <td>Utility knife</td>\n",
              "      <td>55-59</td>\n",
              "    </tr>\n",
              "    <tr>\n",
              "      <th>4</th>\n",
              "      <td>4983775.000</td>\n",
              "      <td>27901.000</td>\n",
              "      <td>Bristol</td>\n",
              "      <td>England</td>\n",
              "      <td>48704.000</td>\n",
              "      <td>UK</td>\n",
              "      <td>22.000</td>\n",
              "      <td>Male</td>\n",
              "      <td>Low</td>\n",
              "      <td>Premium</td>\n",
              "      <td>01-10-24</td>\n",
              "      <td>2024.000</td>\n",
              "      <td>January</td>\n",
              "      <td>2.000</td>\n",
              "      <td>124.277</td>\n",
              "      <td>248.553</td>\n",
              "      <td>Grocery</td>\n",
              "      <td>Nestle</td>\n",
              "      <td>Chocolate</td>\n",
              "      <td>Bad</td>\n",
              "      <td>Standard</td>\n",
              "      <td>Cash</td>\n",
              "      <td>1.000</td>\n",
              "      <td>Chocolate cookies</td>\n",
              "      <td>20-24</td>\n",
              "    </tr>\n",
              "  </tbody>\n",
              "</table>\n",
              "</div>"
            ],
            "text/plain": [
              "   Transaction_ID  Customer_ID        City            State   Zipcode  \\\n",
              "0     8691788.000    37249.000    Dortmund           Berlin 77985.000   \n",
              "1     2174773.000    69749.000  Nottingham          England 99071.000   \n",
              "2     6679610.000    30192.000     Geelong  New South Wales 75929.000   \n",
              "3     7232460.000    62101.000    Edmonton          Ontario 88420.000   \n",
              "4     4983775.000    27901.000     Bristol          England 48704.000   \n",
              "\n",
              "     Country    Age  Gender Income Customer_Segment        Date     Year  \\\n",
              "0    Germany 21.000    Male    Low          Regular   9/18/2023 2023.000   \n",
              "1         UK 19.000  Female    Low          Premium  12/31/2023 2023.000   \n",
              "2  Australia 48.000    Male    Low          Regular   4/26/2023 2023.000   \n",
              "3     Canada 56.000    Male   High          Premium    05-08-23 2023.000   \n",
              "4         UK 22.000    Male    Low          Premium    01-10-24 2024.000   \n",
              "\n",
              "       Month  Total_Purchases  Amount  Total_Amount Product_Category  \\\n",
              "0  September            3.000 108.029       324.086         Clothing   \n",
              "1   December            2.000 403.354       806.708      Electronics   \n",
              "2      April            3.000 354.478      1063.433            Books   \n",
              "3        May            7.000 352.408      2466.854       Home Decor   \n",
              "4    January            2.000 124.277       248.553          Grocery   \n",
              "\n",
              "   Product_Brand Product_Type   Feedback Shipping_Method Payment_Method  \\\n",
              "0           Nike       Shorts  Excellent        Same-Day     Debit Card   \n",
              "1        Samsung       Tablet  Excellent        Standard    Credit Card   \n",
              "2  Penguin Books   Children's    Average        Same-Day    Credit Card   \n",
              "3     Home Depot        Tools  Excellent        Standard         PayPal   \n",
              "4         Nestle    Chocolate        Bad        Standard           Cash   \n",
              "\n",
              "   Ratings           products Age_range  \n",
              "0    5.000     Cycling shorts     20-24  \n",
              "1    4.000         Lenovo Tab     15-19  \n",
              "2    2.000   Sports equipment     45-49  \n",
              "3    4.000      Utility knife     55-59  \n",
              "4    1.000  Chocolate cookies     20-24  "
            ]
          },
          "execution_count": 159,
          "metadata": {},
          "output_type": "execute_result"
        }
      ],
      "source": [
        "bins = range(15,76,5)\n",
        "labels = [f'{i}-{i+4}' for i in range(15,75,5)]\n",
        "\n",
        "data['Age_range'] = pd.cut(data['Age'], bins=bins, labels=labels, right=False)\n",
        "\n",
        "data.head()"
      ]
    },
    {
      "cell_type": "code",
      "execution_count": null,
      "metadata": {
        "id": "_9Z92xMGHcAc"
      },
      "outputs": [],
      "source": [
        "df = data.copy()"
      ]
    },
    {
      "cell_type": "code",
      "execution_count": null,
      "metadata": {
        "id": "Vsyfx9gsHcAc"
      },
      "outputs": [],
      "source": [
        "# Code to plot a boxplot and a histogram\n",
        "def box_hist(col):\n",
        "  f, (ax_box, ax_hist) = plt.subplots(2, sharex=True, gridspec_kw={\"height_ratios\": (.3, .7)})\n",
        "  sns.boxplot(data=df, x=df[col], ax=ax_box, showmeans=True,color='c',meanprops={\"markerfacecolor\":\"y\",\"markeredgecolor\":\"y\"})\n",
        "  sns.histplot(data=df, x=df[col],kde=True, ax=ax_hist,color='c')\n",
        "  plt.xticks(rotation=45)\n",
        "  plt.tight_layout();"
      ]
    },
    {
      "cell_type": "code",
      "execution_count": null,
      "metadata": {
        "id": "QxLlfjsuHcAc",
        "outputId": "79cf0e28-9a77-4e5f-b63e-2e54fb5f32cb"
      },
      "outputs": [
        {
          "data": {
            "image/png": "[encoded data removed]",
            "text/plain": [
              "<Figure size 640x480 with 2 Axes>"
            ]
          },
          "metadata": {},
          "output_type": "display_data"
        },
        {
          "data": {
            "image/png": "[encoded data removed]",
            "text/plain": [
              "<Figure size 640x480 with 2 Axes>"
            ]
          },
          "metadata": {},
          "output_type": "display_data"
        },
        {
          "data": {
            "image/png": "[encoded data removed]",
            "text/plain": [
              "<Figure size 640x480 with 2 Axes>"
            ]
          },
          "metadata": {},
          "output_type": "display_data"
        },
        {
          "data": {
            "image/png": "[encoded data removed]",
            "text/plain": [
              "<Figure size 640x480 with 2 Axes>"
            ]
          },
          "metadata": {},
          "output_type": "display_data"
        },
        {
          "data": {
            "image/png": "[encoded data removed]",
            "text/plain": [
              "<Figure size 640x480 with 2 Axes>"
            ]
          },
          "metadata": {},
          "output_type": "display_data"
        },
        {
          "data": {
            "image/png": "[encoded data removed]",
            "text/plain": [
              "<Figure size 640x480 with 2 Axes>"
            ]
          },
          "metadata": {},
          "output_type": "display_data"
        }
      ],
      "source": [
        "cols_to_check = ['Age_range','Year','Total_Purchases','Amount','Total_Amount','Ratings']\n",
        "\n",
        "for i in cols_to_check:\n",
        "    box_hist(i)"
      ]
    },
    {
      "cell_type": "markdown",
      "metadata": {
        "id": "a855X7QAHcAc"
      },
      "source": [
        "- 50% of the orders are from customers aged between 20 and 49. It's important to note that we have approximately 84,000 customers and 300,000 orders. I will create a separate DataFrame specifically for customers.\n",
        "\n",
        "- Almost all orders were placed in 2023.\n",
        "\n",
        "- Total purchases and amounts show a very uniform distribution.\n",
        "\n",
        "- The total amount exhibits a right-skewed distribution, with the majority of data falling between approximately $500 and $2000.\n",
        "\n",
        "- Ratings predominantly range between 2 and 4, with a higher frequency of ratings at 4, indicating that most products are highly regarded."
      ]
    },
    {
      "cell_type": "code",
      "execution_count": null,
      "metadata": {
        "id": "226ZadT1HcAc",
        "outputId": "6d30677c-01da-4a7c-d34c-15df030b61a1"
      },
      "outputs": [
        {
          "name": "stdout",
          "output_type": "stream",
          "text": [
            "<class 'pandas.core.frame.DataFrame'>\n",
            "Index: 295861 entries, 0 to 302009\n",
            "Data columns (total 25 columns):\n",
            " #   Column            Non-Null Count   Dtype   \n",
            "---  ------            --------------   -----   \n",
            " 0   Transaction_ID    295861 non-null  float64 \n",
            " 1   Customer_ID       295861 non-null  float64 \n",
            " 2   City              295861 non-null  object  \n",
            " 3   State             295861 non-null  object  \n",
            " 4   Zipcode           295861 non-null  float64 \n",
            " 5   Country           295861 non-null  object  \n",
            " 6   Age               295861 non-null  float64 \n",
            " 7   Gender            295861 non-null  object  \n",
            " 8   Income            295861 non-null  object  \n",
            " 9   Customer_Segment  295861 non-null  object  \n",
            " 10  Date              295861 non-null  object  \n",
            " 11  Year              295861 non-null  float64 \n",
            " 12  Month             295861 non-null  object  \n",
            " 13  Total_Purchases   295861 non-null  float64 \n",
            " 14  Amount            295861 non-null  float64 \n",
            " 15  Total_Amount      295861 non-null  float64 \n",
            " 16  Product_Category  295861 non-null  object  \n",
            " 17  Product_Brand     295861 non-null  object  \n",
            " 18  Product_Type      295861 non-null  object  \n",
            " 19  Feedback          295861 non-null  object  \n",
            " 20  Shipping_Method   295861 non-null  object  \n",
            " 21  Payment_Method    295861 non-null  object  \n",
            " 22  Ratings           295861 non-null  float64 \n",
            " 23  products          295861 non-null  object  \n",
            " 24  Age_range         295861 non-null  category\n",
            "dtypes: category(1), float64(9), object(15)\n",
            "memory usage: 56.7+ MB\n"
          ]
        }
      ],
      "source": [
        "df.info()"
      ]
    },
    {
      "cell_type": "code",
      "execution_count": null,
      "metadata": {
        "id": "p7losQM2HcAc",
        "outputId": "82cb5f80-3e5a-4120-a5e3-6619fc85c7dc"
      },
      "outputs": [
        {
          "name": "stdout",
          "output_type": "stream",
          "text": [
            "*************************\n",
            "Country\n",
            "USA         0.316\n",
            "UK          0.209\n",
            "Germany     0.175\n",
            "Australia   0.150\n",
            "Canada      0.150\n",
            "Name: proportion, dtype: float64\n",
            "*************************\n",
            "Gender\n",
            "Male     0.622\n",
            "Female   0.378\n",
            "Name: proportion, dtype: float64\n",
            "*************************\n",
            "Income\n",
            "Medium   0.432\n",
            "Low      0.319\n",
            "High     0.250\n",
            "Name: proportion, dtype: float64\n",
            "*************************\n",
            "Customer_Segment\n",
            "Regular   0.485\n",
            "New       0.302\n",
            "Premium   0.213\n",
            "Name: proportion, dtype: float64\n",
            "*************************\n",
            "Month\n",
            "April       0.137\n",
            "January     0.124\n",
            "August      0.109\n",
            "July        0.102\n",
            "May         0.094\n",
            "March       0.063\n",
            "October     0.063\n",
            "December    0.063\n",
            "September   0.062\n",
            "June        0.061\n",
            "November    0.061\n",
            "February    0.060\n",
            "Name: proportion, dtype: float64\n",
            "*************************\n",
            "Product_Category\n",
            "Electronics   0.236\n",
            "Grocery       0.222\n",
            "Clothing      0.181\n",
            "Books         0.181\n",
            "Home Decor    0.180\n",
            "Name: proportion, dtype: float64\n",
            "*************************\n",
            "Product_Brand\n",
            "Pepsi               0.101\n",
            "Coca-Cola           0.061\n",
            "HarperCollins       0.061\n",
            "Zara                0.061\n",
            "Samsung             0.061\n",
            "Sony                0.061\n",
            "Adidas              0.060\n",
            "Bed Bath & Beyond   0.060\n",
            "Random House        0.060\n",
            "Home Depot          0.060\n",
            "Nike                0.060\n",
            "Nestle              0.060\n",
            "Penguin Books       0.060\n",
            "Apple               0.060\n",
            "IKEA                0.060\n",
            "Whirepool           0.025\n",
            "Mitsubhisi          0.022\n",
            "BlueStar            0.008\n",
            "Name: proportion, dtype: float64\n",
            "*************************\n",
            "Product_Type\n",
            "Water                                0.081\n",
            "Smartphone                           0.061\n",
            "Non-Fiction                          0.060\n",
            "Fiction                              0.060\n",
            "Juice                                0.041\n",
            "T-shirt                              0.040\n",
            "Television                           0.040\n",
            "Decorations                          0.040\n",
            "Shoes                                0.040\n",
            "Tablet                               0.040\n",
            "Soft Drink                           0.040\n",
            "Furniture                            0.040\n",
            "Fridge                               0.025\n",
            "Mitsubishi 1.5 Ton 3 Star Split AC   0.022\n",
            "Thriller                             0.021\n",
            "Kitchen                              0.021\n",
            "Coffee                               0.020\n",
            "Jeans                                0.020\n",
            "Children's                           0.020\n",
            "Dress                                0.020\n",
            "Shirt                                0.020\n",
            "Chocolate                            0.020\n",
            "Headphones                           0.020\n",
            "Shorts                               0.020\n",
            "Lighting                             0.020\n",
            "Literature                           0.020\n",
            "Bedding                              0.020\n",
            "Bathroom                             0.020\n",
            "Jacket                               0.020\n",
            "Laptop                               0.020\n",
            "Tools                                0.020\n",
            "Snacks                               0.019\n",
            "BlueStar AC                          0.008\n",
            "Name: proportion, dtype: float64\n",
            "*************************\n",
            "Feedback\n",
            "Excellent   0.334\n",
            "Good        0.315\n",
            "Average     0.208\n",
            "Bad         0.143\n",
            "Name: proportion, dtype: float64\n",
            "*************************\n",
            "Shipping_Method\n",
            "Same-Day   0.345\n",
            "Express    0.339\n",
            "Standard   0.316\n",
            "Name: proportion, dtype: float64\n",
            "*************************\n",
            "Payment_Method\n",
            "Credit Card   0.299\n",
            "Debit Card    0.254\n",
            "Cash          0.245\n",
            "PayPal        0.202\n",
            "Name: proportion, dtype: float64\n"
          ]
        }
      ],
      "source": [
        "# Code to see some of the values that some columns contain and see the percentage that this represents\n",
        "cat_cols = ['Country','Gender','Income','Customer_Segment','Month','Product_Category','Product_Brand','Product_Type','Feedback','Shipping_Method','Payment_Method']\n",
        "\n",
        "for i in df[cat_cols]:\n",
        "  print('*'*25)\n",
        "  print(df[i].value_counts(normalize=True))"
      ]
    },
    {
      "cell_type": "code",
      "execution_count": null,
      "metadata": {
        "id": "k--yyt2JHcAc",
        "outputId": "658a6edf-7a78-4436-f001-d8f013c38170"
      },
      "outputs": [
        {
          "data": {
            "text/html": [
              "<div>\n",
              "<style scoped>\n",
              "    .dataframe tbody tr th:only-of-type {\n",
              "        vertical-align: middle;\n",
              "    }\n",
              "\n",
              "    .dataframe tbody tr th {\n",
              "        vertical-align: top;\n",
              "    }\n",
              "\n",
              "    .dataframe thead th {\n",
              "        text-align: right;\n",
              "    }\n",
              "</style>\n",
              "<table border=\"1\" class=\"dataframe\">\n",
              "  <thead>\n",
              "    <tr style=\"text-align: right;\">\n",
              "      <th></th>\n",
              "      <th>Transaction_ID</th>\n",
              "      <th>Customer_ID</th>\n",
              "      <th>City</th>\n",
              "      <th>State</th>\n",
              "      <th>Zipcode</th>\n",
              "      <th>Country</th>\n",
              "      <th>Age</th>\n",
              "      <th>Gender</th>\n",
              "      <th>Income</th>\n",
              "      <th>Customer_Segment</th>\n",
              "      <th>Date</th>\n",
              "      <th>Year</th>\n",
              "      <th>Month</th>\n",
              "      <th>Total_Purchases</th>\n",
              "      <th>Amount</th>\n",
              "      <th>Total_Amount</th>\n",
              "      <th>Product_Category</th>\n",
              "      <th>Product_Brand</th>\n",
              "      <th>Product_Type</th>\n",
              "      <th>Feedback</th>\n",
              "      <th>Shipping_Method</th>\n",
              "      <th>Payment_Method</th>\n",
              "      <th>Ratings</th>\n",
              "      <th>products</th>\n",
              "      <th>Age_range</th>\n",
              "    </tr>\n",
              "  </thead>\n",
              "  <tbody>\n",
              "    <tr>\n",
              "      <th>11</th>\n",
              "      <td>1609659.000</td>\n",
              "      <td>66883.000</td>\n",
              "      <td>Portsmouth</td>\n",
              "      <td>England</td>\n",
              "      <td>91253.000</td>\n",
              "      <td>UK</td>\n",
              "      <td>31.000</td>\n",
              "      <td>Female</td>\n",
              "      <td>Medium</td>\n",
              "      <td>Regular</td>\n",
              "      <td>6/21/2023</td>\n",
              "      <td>2023.000</td>\n",
              "      <td>June</td>\n",
              "      <td>1.000</td>\n",
              "      <td>364.831</td>\n",
              "      <td>364.831</td>\n",
              "      <td>Books</td>\n",
              "      <td>Random House</td>\n",
              "      <td>Non-Fiction</td>\n",
              "      <td>Average</td>\n",
              "      <td>Standard</td>\n",
              "      <td>Credit Card</td>\n",
              "      <td>2.000</td>\n",
              "      <td>Science</td>\n",
              "      <td>30-34</td>\n",
              "    </tr>\n",
              "    <tr>\n",
              "      <th>21</th>\n",
              "      <td>8871554.000</td>\n",
              "      <td>63914.000</td>\n",
              "      <td>Portsmouth</td>\n",
              "      <td>England</td>\n",
              "      <td>16385.000</td>\n",
              "      <td>UK</td>\n",
              "      <td>61.000</td>\n",
              "      <td>Male</td>\n",
              "      <td>High</td>\n",
              "      <td>Regular</td>\n",
              "      <td>08-06-23</td>\n",
              "      <td>2023.000</td>\n",
              "      <td>August</td>\n",
              "      <td>4.000</td>\n",
              "      <td>200.287</td>\n",
              "      <td>801.149</td>\n",
              "      <td>Books</td>\n",
              "      <td>HarperCollins</td>\n",
              "      <td>Non-Fiction</td>\n",
              "      <td>Average</td>\n",
              "      <td>Standard</td>\n",
              "      <td>PayPal</td>\n",
              "      <td>2.000</td>\n",
              "      <td>Business</td>\n",
              "      <td>60-64</td>\n",
              "    </tr>\n",
              "    <tr>\n",
              "      <th>22</th>\n",
              "      <td>9476855.000</td>\n",
              "      <td>42410.000</td>\n",
              "      <td>Portsmouth</td>\n",
              "      <td>England</td>\n",
              "      <td>83903.000</td>\n",
              "      <td>UK</td>\n",
              "      <td>21.000</td>\n",
              "      <td>Female</td>\n",
              "      <td>Low</td>\n",
              "      <td>Regular</td>\n",
              "      <td>02-03-24</td>\n",
              "      <td>2024.000</td>\n",
              "      <td>February</td>\n",
              "      <td>6.000</td>\n",
              "      <td>34.124</td>\n",
              "      <td>204.746</td>\n",
              "      <td>Books</td>\n",
              "      <td>Penguin Books</td>\n",
              "      <td>Non-Fiction</td>\n",
              "      <td>Average</td>\n",
              "      <td>Same-Day</td>\n",
              "      <td>PayPal</td>\n",
              "      <td>2.000</td>\n",
              "      <td>Self-help</td>\n",
              "      <td>20-24</td>\n",
              "    </tr>\n",
              "    <tr>\n",
              "      <th>59</th>\n",
              "      <td>4021565.000</td>\n",
              "      <td>59819.000</td>\n",
              "      <td>Portsmouth</td>\n",
              "      <td>England</td>\n",
              "      <td>28089.000</td>\n",
              "      <td>UK</td>\n",
              "      <td>29.000</td>\n",
              "      <td>Male</td>\n",
              "      <td>Medium</td>\n",
              "      <td>Regular</td>\n",
              "      <td>10-08-23</td>\n",
              "      <td>2023.000</td>\n",
              "      <td>October</td>\n",
              "      <td>9.000</td>\n",
              "      <td>474.827</td>\n",
              "      <td>4273.442</td>\n",
              "      <td>Books</td>\n",
              "      <td>Random House</td>\n",
              "      <td>Non-Fiction</td>\n",
              "      <td>Average</td>\n",
              "      <td>Standard</td>\n",
              "      <td>PayPal</td>\n",
              "      <td>2.000</td>\n",
              "      <td>History</td>\n",
              "      <td>25-29</td>\n",
              "    </tr>\n",
              "    <tr>\n",
              "      <th>65</th>\n",
              "      <td>9202969.000</td>\n",
              "      <td>35966.000</td>\n",
              "      <td>Portsmouth</td>\n",
              "      <td>England</td>\n",
              "      <td>41418.000</td>\n",
              "      <td>UK</td>\n",
              "      <td>69.000</td>\n",
              "      <td>Male</td>\n",
              "      <td>Low</td>\n",
              "      <td>Regular</td>\n",
              "      <td>2/20/2024</td>\n",
              "      <td>2024.000</td>\n",
              "      <td>February</td>\n",
              "      <td>4.000</td>\n",
              "      <td>187.093</td>\n",
              "      <td>748.370</td>\n",
              "      <td>Books</td>\n",
              "      <td>HarperCollins</td>\n",
              "      <td>Non-Fiction</td>\n",
              "      <td>Bad</td>\n",
              "      <td>Express</td>\n",
              "      <td>Cash</td>\n",
              "      <td>1.000</td>\n",
              "      <td>Cooking</td>\n",
              "      <td>65-69</td>\n",
              "    </tr>\n",
              "  </tbody>\n",
              "</table>\n",
              "</div>"
            ],
            "text/plain": [
              "    Transaction_ID  Customer_ID        City    State   Zipcode Country    Age  \\\n",
              "11     1609659.000    66883.000  Portsmouth  England 91253.000      UK 31.000   \n",
              "21     8871554.000    63914.000  Portsmouth  England 16385.000      UK 61.000   \n",
              "22     9476855.000    42410.000  Portsmouth  England 83903.000      UK 21.000   \n",
              "59     4021565.000    59819.000  Portsmouth  England 28089.000      UK 29.000   \n",
              "65     9202969.000    35966.000  Portsmouth  England 41418.000      UK 69.000   \n",
              "\n",
              "    Gender  Income Customer_Segment       Date     Year     Month  \\\n",
              "11  Female  Medium          Regular  6/21/2023 2023.000      June   \n",
              "21    Male    High          Regular   08-06-23 2023.000    August   \n",
              "22  Female     Low          Regular   02-03-24 2024.000  February   \n",
              "59    Male  Medium          Regular   10-08-23 2023.000   October   \n",
              "65    Male     Low          Regular  2/20/2024 2024.000  February   \n",
              "\n",
              "    Total_Purchases  Amount  Total_Amount Product_Category  Product_Brand  \\\n",
              "11            1.000 364.831       364.831            Books   Random House   \n",
              "21            4.000 200.287       801.149            Books  HarperCollins   \n",
              "22            6.000  34.124       204.746            Books  Penguin Books   \n",
              "59            9.000 474.827      4273.442            Books   Random House   \n",
              "65            4.000 187.093       748.370            Books  HarperCollins   \n",
              "\n",
              "   Product_Type Feedback Shipping_Method Payment_Method  Ratings   products  \\\n",
              "11  Non-Fiction  Average        Standard    Credit Card    2.000    Science   \n",
              "21  Non-Fiction  Average        Standard         PayPal    2.000   Business   \n",
              "22  Non-Fiction  Average        Same-Day         PayPal    2.000  Self-help   \n",
              "59  Non-Fiction  Average        Standard         PayPal    2.000    History   \n",
              "65  Non-Fiction      Bad         Express           Cash    1.000    Cooking   \n",
              "\n",
              "   Age_range  \n",
              "11     30-34  \n",
              "21     60-64  \n",
              "22     20-24  \n",
              "59     25-29  \n",
              "65     65-69  "
            ]
          },
          "execution_count": 166,
          "metadata": {},
          "output_type": "execute_result"
        }
      ],
      "source": [
        "# Just wanted to verify that Non-Fiction is a book\n",
        "df[df['Product_Type']=='Non-Fiction'].head()"
      ]
    },
    {
      "cell_type": "code",
      "execution_count": null,
      "metadata": {
        "id": "s2VABsi2HcAc"
      },
      "outputs": [],
      "source": [
        "# Histogram to see Total purchases, Amount and Total amount vs the categorical values"
      ]
    }
  ],
  "metadata": {
    "kernelspec": {
      "display_name": "venv",
      "language": "python",
      "name": "python3"
    },
    "language_info": {
      "codemirror_mode": {
        "name": "ipython",
        "version": 3
      },
      "file_extension": ".py",
      "mimetype": "text/x-python",
      "name": "python",
      "nbconvert_exporter": "python",
      "pygments_lexer": "ipython3",
      "version": "3.11.9"
    },
    "colab": {
      "provenance": []
    }
  },
  "nbformat": 4,
  "nbformat_minor": 0
}